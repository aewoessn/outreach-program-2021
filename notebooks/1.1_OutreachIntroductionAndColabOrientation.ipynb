{
  "nbformat": 4,
  "nbformat_minor": 0,
  "metadata": {
    "colab": {
      "name": "1.1_OutreachIntroductionAndColabOrientation.ipynb",
      "provenance": [],
      "collapsed_sections": []
    },
    "kernelspec": {
      "name": "python3",
      "display_name": "Python 3"
    },
    "language_info": {
      "name": "python"
    }
  },
  "cells": [
    {
      "cell_type": "markdown",
      "metadata": {
        "id": "JGwOQIe3zWRK"
      },
      "source": [
        "# Welcome to the  University of Arkansas Biomedical Engineering Virtual Summer Camp! \n",
        "<img src=https://brand.uark.edu/_resources/images/UA_Logo_Horizontal.jpg width=\"400\" height=\"96\">\n",
        "\n",
        "### _Biomedical Image Analysis & Artificial Intelligence_"
      ]
    },
    {
      "cell_type": "markdown",
      "metadata": {
        "id": "fq2ZlMUAwmb-"
      },
      "source": [
        "# Introduction\n",
        "---"
      ]
    },
    {
      "cell_type": "code",
      "metadata": {
        "colab": {
          "base_uri": "https://localhost:8080/",
          "height": 335
        },
        "cellView": "form",
        "id": "PfRuIQ5KxL72",
        "outputId": "c02c5f0d-bc10-4eee-b893-c8e994d6c57c"
      },
      "source": [
        "#@title \n",
        "%%html\n",
        "<iframe \n",
        "width=\"560\" \n",
        "height=\"315\" \n",
        "src=\"https://www.youtube.com/embed/t_rOO0sRsD4\" \n",
        "title=\"YouTube video player\" \n",
        "frameborder=\"0\" \n",
        "allow=\"accelerometer; autoplay; clipboard-write; encrypted-media; gyroscope; picture-in-picture\" \n",
        "allowfullscreen></iframe>"
      ],
      "execution_count": null,
      "outputs": [
        {
          "output_type": "display_data",
          "data": {
            "text/html": [
              "<iframe width=\"560\" height=\"315\" src=\"https://www.youtube.com/embed/t_rOO0sRsD4\" title=\"YouTube video player\" frameborder=\"0\" allow=\"accelerometer; autoplay; clipboard-write; encrypted-media; gyroscope; picture-in-picture\" allowfullscreen></iframe>"
            ],
            "text/plain": [
              "<IPython.core.display.HTML object>"
            ]
          },
          "metadata": {
            "tags": []
          }
        }
      ]
    },
    {
      "cell_type": "markdown",
      "metadata": {
        "id": "wpT3Zmbt38vp"
      },
      "source": [
        "# Notebook 1.1 - Outreach Orientation and Google Colab Orientation\n",
        "---\n",
        "##### The purpose of this file is to orient you with Google Colab so you are able to sucessfully navigate and run all of the files in this module.\n",
        "##### For this entire module, Google Colab will be used for running programs. Google Colab is a free tool hosted by Google that allows for anyone to program in multiple programming languages, while only requiring a free Google account to use. Additionally, Google Colab allows for the use of additional resources that will aid in training of neural networks, which will be used in this module.\n"
      ]
    },
    {
      "cell_type": "markdown",
      "metadata": {
        "id": "xleJmIy709ZS"
      },
      "source": [
        "# Python and Jupyter Notebooks\n",
        "---\n",
        "##### All files, commonly refered to as scripts, in this module are coded using [python](https://www.python.org), which is a specific programming language, or way to develop instructions for a computer to execute.\n",
        "##### Additionally, all scripts in this module were written using [Jupyter Notebooks](https://jupyter.org), which is just an additional tool that can make scripts more interactive and easier to read for progammers.\n",
        "##### You should also know that this module **_should not_** require you to learn how to program in order to complete the module."
      ]
    },
    {
      "cell_type": "markdown",
      "metadata": {
        "id": "D6es-5GA8K94"
      },
      "source": [
        "# Executing code in Google Colab\n",
        "---\n",
        "##### Below this text is a _code chunk_, or _cell_, which is a small block of python code that can be executed. \n",
        "##### A code chunk, and all code, is just a set of instructions for a computer to follow. For example, in the below _code chunk_, we are telling the computer to display (or **_print_**) the words \"Hello\" and \"world!\".\n",
        "##### To execute this code chunk, simply hover over the code chunk, and a play button will appear on the left of the code chunk. By pressing the play button, the code within the code chunk will be executed, and information will be outputted if there is any. \n",
        "##### For this code chunk, we expect the output to be \"Hello world!\", which can be seen by running the code chunk."
      ]
    },
    {
      "cell_type": "code",
      "metadata": {
        "id": "WEcfIh958_7I"
      },
      "source": [
        "print(\"Hello world!\")"
      ],
      "execution_count": null,
      "outputs": []
    },
    {
      "cell_type": "markdown",
      "metadata": {
        "id": "iXCjhxCsAouW"
      },
      "source": [
        "##### For this module, all scripts are hosted on [Github](https://github.com), and while you are able to edit them, they will not be saved. If Google Colab is unable to execute a code chunk, which is typically indicated by a large amount of red text, scripts can be reset to their original state by navigating to the top of the webpage and selecting:\n",
        "> ### Runtime > Restart runtime\n",
        "##### If the code is still not running, then a refesh of the page is reset all of the code chunks to their original state.\n",
        "##### When starting a new notebook, it is recommended to run all of the code chunks sequentially from top to bottom. If you want to automatically run all of the code chunks, you can select:\n",
        "> ### Runtime > Run all\n",
        "##### If you are trying to run code chunks out of order and are running into issues, you can try re-running them sequentially, or run them all again by selecting:\n",
        "> ### Runtime > Restart and run all\n",
        "\n"
      ]
    },
    {
      "cell_type": "markdown",
      "metadata": {
        "id": "Gn4-ChfYrvcB"
      },
      "source": [
        "# Showing hidden code chunks\n",
        "---\n",
        "##### In some of the notebooks for this module, code chunks may be _collapsed_ for ease of readability. \n",
        "##### Collapsed code chunks can still be run like normal, and they can be expanded/re-collapsed by clicking in the little triangle next to the section header (in this case, the section header is \"Showing hidden code chunks\").\n",
        "##### Although knowing how all of the code works in this midule is not required, you are strongly encouraged to look at all of the code, collapsed or not, and following along.\n",
        "##### Below is an example of a hidden code chunk."
      ]
    },
    {
      "cell_type": "code",
      "metadata": {
        "id": "ZuOOHHk5tCm6",
        "cellView": "form"
      },
      "source": [
        "#@title --- Hidden code (double-click to show code) ---\n",
        "# This code chunk is hidden\n",
        "print('Hello world!')"
      ],
      "execution_count": null,
      "outputs": []
    },
    {
      "cell_type": "markdown",
      "metadata": {
        "id": "Qjnxgl07CJ8U"
      },
      "source": [
        "# Interacting with code chunks by using Forms\n",
        "##### Google Colab allows for interaction with code chunk through a unique feature called _forms_. _Forms_ allow for code to be changed without requiring previous coding knowledge, and will be used within this module for interacting with code chunks.\n",
        "##### Below are some types of forms that will be used during this module. To fully interact with a code chunk that contains forms, the form (code chunk) must first be run as shown in the previous section, and then values can be modified.\n",
        "##### **_Please keep note that if you select \"Run all\", you still need to run the code chunks containing Forms to fully interact with them._**\n",
        "##### If you are interested in the python code that is associated with each form, there are two jupyter notebooks following this notebook that introduces programming fundamentals.\n",
        "##### The code can be viewed by either double clicking on the Form, or right-clicking on a form and selecting:\n",
        "> #### Form > Show code\n",
        "##### To hide the code, you can right-click on the code chunk again and select:\n",
        "> #### Form > Hide code\n",
        "##### Run and interact with the code chunks below to become familiar with forms."
      ]
    },
    {
      "cell_type": "code",
      "metadata": {
        "id": "bNl1ZwgiFr27",
        "cellView": "form"
      },
      "source": [
        "# Import important packages\n",
        "from datetime import date\n",
        "\n",
        "# Include a form that prompts people for their birthday\n",
        "# --- Form starts here --- #\n",
        "#@title When is your birthday? { run: \"auto\" }\n",
        "birth_day = \"2021-01-01\" #@param {type:\"date\"} \n",
        "# --- Form ends here --- #\n",
        "\n",
        "birth_day = birth_day.split(\"-\") # Parse out the user input\n",
        "birth_day = date(int(birth_day[0]),int(birth_day[1]),int(birth_day[2])) # Convert the raw input into a date\n",
        "\n",
        "currentDate = date.today() # Get today's date\n",
        "\n",
        "# Check to see if the inputted birthday is today, and if it is not, then calculate:\n",
        "# - How old the user is\n",
        "# - How many days there are until your next birthday\n",
        "if (currentDate - birth_day).days != 0:\n",
        "  dayDiff = currentDate - birth_day # Get the difference of the birthday and current day (in days)\n",
        "\n",
        "  yearsOld = dayDiff.days // 365 # Divide the number of days old by 365, and round down\n",
        "\n",
        "  # Change the year to either the current year or the current year + 1, based on if the birthday has passed this year\n",
        "  birth_day = birth_day.replace(year=currentDate.year)\n",
        "  if birth_day < currentDate:\n",
        "    birth_day = birth_day.replace(year=currentDate.year + 1)\n",
        "\n",
        "  # Calculate the difference in days, which will be how many days left until their next birthday\n",
        "  dayDiff = birth_day - currentDate\n",
        "\n",
        "  # Output a sentence that has information in it\n",
        "  print(\"You are \" + str(yearsOld) + \" years old, and have \" + str(dayDiff.days) + \" day(s) until your next birthday.\")\n",
        "\n"
      ],
      "execution_count": null,
      "outputs": []
    },
    {
      "cell_type": "code",
      "metadata": {
        "id": "YEVqj0F-RXfP",
        "cellView": "form"
      },
      "source": [
        "# Include a form that prompts a user to input their favorite number by using a slider\n",
        "# --- Form starts here --- #\n",
        "#@title What is your favorite number between 0 and 9? { run: \"auto\" }\n",
        "favorite_number = 0 #@param {type:\"slider\", min:0, max:9, step:1}\n",
        "# --- Form ends here --- #\n",
        "\n",
        "# Output the users favorite number\n",
        "print(\"You selected your favorite number to be \" + str(favorite_number))\n",
        "\n",
        "# Check to see if the favorite number is equal to 7\n",
        "if favorite_number == 7:\n",
        "  print(\"That is my favorite number too!\")\n"
      ],
      "execution_count": null,
      "outputs": []
    },
    {
      "cell_type": "code",
      "metadata": {
        "id": "nj23UxQuSf5O",
        "cellView": "form"
      },
      "source": [
        "# Import important packages\n",
        "import random\n",
        "\n",
        "# Ask the user if they understand how to use forms\n",
        "# --- Form starts here --- #\n",
        "#@title Do you understand how to use Forms in Google Colab? { run: \"auto\" }\n",
        "do_you_understand = \"No!\" #@param [\"Yes!\", \"No!\"]\n",
        "# --- Form ends here --- #\n",
        "\n",
        "# If the user says...\n",
        "# No, then provide a link where they can look at more examples\n",
        "# Yes, then randomly generate a secret code that uses their favorite number as the first digit\n",
        "if do_you_understand == \"No!\":\n",
        "  print('I am sorry! You can find more examples of Forms here: https://colab.research.google.com/notebooks/forms.ipynb')\n",
        "elif do_you_understand == \"Yes!\":\n",
        "  secret_code = (favorite_number * 1000) + random.randint(100,999)\n",
        "  print('Your secret code is: ' + str(secret_code))"
      ],
      "execution_count": null,
      "outputs": []
    },
    {
      "cell_type": "code",
      "metadata": {
        "id": "cXtaVDQ4C-ON",
        "cellView": "form"
      },
      "source": [
        "# Ask the user to input their secret code that was provided by the previous form\n",
        "# --- Form starts here --- #\n",
        "#@title If you indicated that you do understand how to use Forms, what is your code?\n",
        "passcode = 0000 #@param {type:\"number\"}\n",
        "# --- Form ends here --- #\n",
        "\n",
        "# Ignore the input if it is the default 0000\n",
        "if passcode != 0000:\n",
        "\n",
        "  # If the secret code is...\n",
        "  # Correct, then congratulate the user\n",
        "  # Incorrect, then provide a link with more examples\n",
        "  if passcode == secret_code:\n",
        "    print('Congratulations! You are ready to move on in the module.')\n",
        "  else:\n",
        "    print('You may want to work through some more examples of Forms, which can be found here: https://colab.research.google.com/notebooks/forms.ipynb')\n"
      ],
      "execution_count": null,
      "outputs": []
    },
    {
      "cell_type": "markdown",
      "metadata": {
        "id": "vvPk3HMhQqBI"
      },
      "source": [
        "# Is something not running correctly?\n",
        "---\n",
        "##### If you are having any issues with the notebooks at any point during this module, please do not hesitate to email us with your name, which notebook you are on, and what the issue is. You can email us at:\n",
        "> aewoessn@uark.edu\n",
        "##### or\n",
        "> kpquinn@uark.edu\n",
        "\n"
      ]
    },
    {
      "cell_type": "markdown",
      "metadata": {
        "id": "08iydcfdhNMA"
      },
      "source": [
        "# Ready for the next notebook?\n",
        "---\n",
        "##### You can click [here](https://colab.research.google.com/github/aewoessn/outreach-program-2021/blob/main/notebooks/1.2_IntroductionToProgrammingInPython.ipynb) to take you to the next notebook."
      ]
    }
  ]
}
